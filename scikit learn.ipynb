{
 "cells": [
  {
   "cell_type": "code",
   "execution_count": null,
   "id": "eab5f4f9",
   "metadata": {},
   "outputs": [],
   "source": [
    "#        General content\n",
    "\n",
    "#sklearn liberary\n",
    "    data splitter\n",
    "    metric\n",
    "    training algorithms\n",
    "#get data ready\n",
    "   split data into features and labels\n",
    "   filling or disregarding missing values\n",
    "   feature encoding(converting non-numerical values into numeric values)\n",
    "#pick the model(chose the right estimator or algorithm)\n",
    "  using guide of selection\n",
    "  understand the algorithm  \n",
    "#fit the model\n",
    "   train our model with the data and adjust parameters\n",
    "#evaluate the model\n",
    "   use different metrics for different data\n",
    "#improve the model\n",
    "   tunning hyperparameters\n",
    "   adding more data\n",
    "#save and reload\n",
    "   real testing\n",
    "   make it in production(live)\n"
   ]
  },
  {
   "cell_type": "code",
   "execution_count": 12,
   "id": "1526d3a8",
   "metadata": {},
   "outputs": [
    {
     "data": {
      "text/html": [
       "<div>\n",
       "<style scoped>\n",
       "    .dataframe tbody tr th:only-of-type {\n",
       "        vertical-align: middle;\n",
       "    }\n",
       "\n",
       "    .dataframe tbody tr th {\n",
       "        vertical-align: top;\n",
       "    }\n",
       "\n",
       "    .dataframe thead th {\n",
       "        text-align: right;\n",
       "    }\n",
       "</style>\n",
       "<table border=\"1\" class=\"dataframe\">\n",
       "  <thead>\n",
       "    <tr style=\"text-align: right;\">\n",
       "      <th></th>\n",
       "      <th>passenger_id</th>\n",
       "      <th>pclass</th>\n",
       "      <th>name</th>\n",
       "      <th>sex</th>\n",
       "      <th>age</th>\n",
       "      <th>sibsp</th>\n",
       "      <th>parch</th>\n",
       "      <th>ticket</th>\n",
       "      <th>fare</th>\n",
       "      <th>cabin</th>\n",
       "      <th>embarked</th>\n",
       "      <th>boat</th>\n",
       "      <th>body</th>\n",
       "      <th>home.dest</th>\n",
       "      <th>survived</th>\n",
       "    </tr>\n",
       "  </thead>\n",
       "  <tbody>\n",
       "    <tr>\n",
       "      <th>0</th>\n",
       "      <td>1216</td>\n",
       "      <td>3</td>\n",
       "      <td>Smyth, Miss. Julia</td>\n",
       "      <td>female</td>\n",
       "      <td>NaN</td>\n",
       "      <td>0</td>\n",
       "      <td>0</td>\n",
       "      <td>335432</td>\n",
       "      <td>7.7333</td>\n",
       "      <td>NaN</td>\n",
       "      <td>Q</td>\n",
       "      <td>13</td>\n",
       "      <td>NaN</td>\n",
       "      <td>NaN</td>\n",
       "      <td>1</td>\n",
       "    </tr>\n",
       "    <tr>\n",
       "      <th>1</th>\n",
       "      <td>699</td>\n",
       "      <td>3</td>\n",
       "      <td>Cacic, Mr. Luka</td>\n",
       "      <td>male</td>\n",
       "      <td>38.0</td>\n",
       "      <td>0</td>\n",
       "      <td>0</td>\n",
       "      <td>315089</td>\n",
       "      <td>8.6625</td>\n",
       "      <td>NaN</td>\n",
       "      <td>S</td>\n",
       "      <td>NaN</td>\n",
       "      <td>NaN</td>\n",
       "      <td>Croatia</td>\n",
       "      <td>0</td>\n",
       "    </tr>\n",
       "    <tr>\n",
       "      <th>2</th>\n",
       "      <td>1267</td>\n",
       "      <td>3</td>\n",
       "      <td>Van Impe, Mrs. Jean Baptiste (Rosalie Paula Go...</td>\n",
       "      <td>female</td>\n",
       "      <td>30.0</td>\n",
       "      <td>1</td>\n",
       "      <td>1</td>\n",
       "      <td>345773</td>\n",
       "      <td>24.1500</td>\n",
       "      <td>NaN</td>\n",
       "      <td>S</td>\n",
       "      <td>NaN</td>\n",
       "      <td>NaN</td>\n",
       "      <td>NaN</td>\n",
       "      <td>0</td>\n",
       "    </tr>\n",
       "    <tr>\n",
       "      <th>3</th>\n",
       "      <td>449</td>\n",
       "      <td>2</td>\n",
       "      <td>Hocking, Mrs. Elizabeth (Eliza Needs)</td>\n",
       "      <td>female</td>\n",
       "      <td>54.0</td>\n",
       "      <td>1</td>\n",
       "      <td>3</td>\n",
       "      <td>29105</td>\n",
       "      <td>23.0000</td>\n",
       "      <td>NaN</td>\n",
       "      <td>S</td>\n",
       "      <td>4</td>\n",
       "      <td>NaN</td>\n",
       "      <td>Cornwall / Akron, OH</td>\n",
       "      <td>1</td>\n",
       "    </tr>\n",
       "    <tr>\n",
       "      <th>4</th>\n",
       "      <td>576</td>\n",
       "      <td>2</td>\n",
       "      <td>Veal, Mr. James</td>\n",
       "      <td>male</td>\n",
       "      <td>40.0</td>\n",
       "      <td>0</td>\n",
       "      <td>0</td>\n",
       "      <td>28221</td>\n",
       "      <td>13.0000</td>\n",
       "      <td>NaN</td>\n",
       "      <td>S</td>\n",
       "      <td>NaN</td>\n",
       "      <td>NaN</td>\n",
       "      <td>Barre, Co Washington, VT</td>\n",
       "      <td>0</td>\n",
       "    </tr>\n",
       "  </tbody>\n",
       "</table>\n",
       "</div>"
      ],
      "text/plain": [
       "   passenger_id  pclass                                               name  \\\n",
       "0          1216       3                                 Smyth, Miss. Julia   \n",
       "1           699       3                                    Cacic, Mr. Luka   \n",
       "2          1267       3  Van Impe, Mrs. Jean Baptiste (Rosalie Paula Go...   \n",
       "3           449       2              Hocking, Mrs. Elizabeth (Eliza Needs)   \n",
       "4           576       2                                    Veal, Mr. James   \n",
       "\n",
       "      sex   age  sibsp  parch  ticket     fare cabin embarked boat  body  \\\n",
       "0  female   NaN      0      0  335432   7.7333   NaN        Q   13   NaN   \n",
       "1    male  38.0      0      0  315089   8.6625   NaN        S  NaN   NaN   \n",
       "2  female  30.0      1      1  345773  24.1500   NaN        S  NaN   NaN   \n",
       "3  female  54.0      1      3   29105  23.0000   NaN        S    4   NaN   \n",
       "4    male  40.0      0      0   28221  13.0000   NaN        S  NaN   NaN   \n",
       "\n",
       "                  home.dest  survived  \n",
       "0                       NaN         1  \n",
       "1                   Croatia         0  \n",
       "2                       NaN         0  \n",
       "3      Cornwall / Akron, OH         1  \n",
       "4  Barre, Co Washington, VT         0  "
      ]
     },
     "execution_count": 12,
     "metadata": {},
     "output_type": "execute_result"
    }
   ],
   "source": [
    "import pandas as pd\n",
    "path=(\"C:/Users/WIN- 10/Downloads/Titanic_Dataset.csv\")\n",
    "df=pd.read_csv(path)\n",
    "df.head()\n",
    "#sample=df[\"passenger_id\",\"name\",\"ticket\",\"cabin\",\"home.des\",\"body\"]"
   ]
  },
  {
   "cell_type": "code",
   "execution_count": 18,
   "id": "388d4065",
   "metadata": {},
   "outputs": [
    {
     "ename": "NameError",
     "evalue": "name 'clf' is not defined",
     "output_type": "error",
     "traceback": [
      "\u001b[1;31m---------------------------------------------------------------------------\u001b[0m",
      "\u001b[1;31mNameError\u001b[0m                                 Traceback (most recent call last)",
      "Input \u001b[1;32mIn [18]\u001b[0m, in \u001b[0;36m<cell line: 2>\u001b[1;34m()\u001b[0m\n\u001b[0;32m      1\u001b[0m \u001b[38;5;28;01mimport\u001b[39;00m \u001b[38;5;21;01mpickle\u001b[39;00m\n\u001b[1;32m----> 2\u001b[0m pickle\u001b[38;5;241m.\u001b[39mdump(\u001b[43mclf\u001b[49m,\u001b[38;5;28mopen\u001b[39m(\u001b[38;5;124m\"\u001b[39m\u001b[38;5;124mrandom_forest.pkl\u001b[39m\u001b[38;5;124m\"\u001b[39m,\u001b[38;5;124m'\u001b[39m\u001b[38;5;124mwb\u001b[39m\u001b[38;5;124m'\u001b[39m))\u001b[38;5;66;03m#write binary\u001b[39;00m\n\u001b[0;32m      3\u001b[0m loaded_model\u001b[38;5;241m=\u001b[39mpickle\u001b[38;5;241m.\u001b[39mload(\u001b[38;5;28mopen\u001b[39m(random_forest\u001b[38;5;241m.\u001b[39mpkl,\u001b[38;5;124m'\u001b[39m\u001b[38;5;124mrb\u001b[39m\u001b[38;5;124m'\u001b[39m))\n\u001b[0;32m      4\u001b[0m loaded_model\u001b[38;5;241m.\u001b[39mscore(x_test,y_test)\n",
      "\u001b[1;31mNameError\u001b[0m: name 'clf' is not defined"
     ]
    }
   ],
   "source": [
    "import pickle\n",
    "pickle.dump(clf,open(\"random_forest.pkl\",'wb'))#write binary\n",
    "loaded_model=pickle.load(open(random_forest.pkl,'rb'))\n",
    "loaded_model.score(x_test,y_test)\n",
    "import warnings\n",
    "warnings.filterwarnings(\"ignore\")#we can say default"
   ]
  },
  {
   "cell_type": "code",
   "execution_count": 15,
   "id": "57c55135",
   "metadata": {},
   "outputs": [
    {
     "name": "stdout",
     "output_type": "stream",
     "text": [
      "<class 'pandas.core.frame.DataFrame'>\n",
      "RangeIndex: 850 entries, 0 to 849\n",
      "Data columns (total 15 columns):\n",
      " #   Column        Non-Null Count  Dtype  \n",
      "---  ------        --------------  -----  \n",
      " 0   passenger_id  850 non-null    int64  \n",
      " 1   pclass        850 non-null    int64  \n",
      " 2   name          850 non-null    object \n",
      " 3   sex           850 non-null    object \n",
      " 4   age           676 non-null    float64\n",
      " 5   sibsp         850 non-null    int64  \n",
      " 6   parch         850 non-null    int64  \n",
      " 7   ticket        850 non-null    object \n",
      " 8   fare          849 non-null    float64\n",
      " 9   cabin         191 non-null    object \n",
      " 10  embarked      849 non-null    object \n",
      " 11  boat          308 non-null    object \n",
      " 12  body          73 non-null     float64\n",
      " 13  home.dest     464 non-null    object \n",
      " 14  survived      850 non-null    int64  \n",
      "dtypes: float64(3), int64(5), object(7)\n",
      "memory usage: 99.7+ KB\n",
      "              count        mean         std     min       25%       50%  \\\n",
      "passenger_id  850.0  662.816471  380.751936  1.0000  332.2500  676.5000   \n",
      "pclass        850.0    2.320000    0.838530  1.0000    2.0000    3.0000   \n",
      "age           676.0   29.519847   14.562243  0.1667   20.0000   28.0000   \n",
      "sibsp         850.0    0.522353    1.112132  0.0000    0.0000    0.0000   \n",
      "parch         850.0    0.382353    0.879511  0.0000    0.0000    0.0000   \n",
      "fare          849.0   34.012701   53.705779  0.0000    7.8958   14.1083   \n",
      "body           73.0  165.821918   99.068487  4.0000   75.0000  166.0000   \n",
      "survived      850.0    0.368235    0.482610  0.0000    0.0000    0.0000   \n",
      "\n",
      "                 75%        max  \n",
      "passenger_id  992.25  1307.0000  \n",
      "pclass          3.00     3.0000  \n",
      "age            37.00    80.0000  \n",
      "sibsp           1.00     8.0000  \n",
      "parch           0.00     9.0000  \n",
      "fare           31.00   512.3292  \n",
      "body          260.00   328.0000  \n",
      "survived        1.00     1.0000  \n"
     ]
    },
    {
     "data": {
      "image/png": "[encoded data removed]",
      "text/plain": [
       "<Figure size 720x864 with 1 Axes>"
      ]
     },
     "metadata": {
      "needs_background": "light"
     },
     "output_type": "display_data"
    },
    {
     "data": {
      "image/png": "[encoded data removed]",
      "text/plain": [
       "<Figure size 432x288 with 1 Axes>"
      ]
     },
     "metadata": {
      "needs_background": "light"
     },
     "output_type": "display_data"
    },
    {
     "data": {
      "image/png": "[encoded data removed]",
      "text/plain": [
       "<Figure size 432x288 with 1 Axes>"
      ]
     },
     "metadata": {
      "needs_background": "light"
     },
     "output_type": "display_data"
    },
    {
     "data": {
      "image/png": "[encoded data removed]",
      "text/plain": [
       "<Figure size 432x288 with 1 Axes>"
      ]
     },
     "metadata": {
      "needs_background": "light"
     },
     "output_type": "display_data"
    },
    {
     "data": {
      "image/png": "[encoded data removed]",
      "text/plain": [
       "<Figure size 432x288 with 1 Axes>"
      ]
     },
     "metadata": {
      "needs_background": "light"
     },
     "output_type": "display_data"
    },
    {
     "data": {
      "image/png": "[encoded data removed]",
      "text/plain": [
       "<Figure size 432x288 with 1 Axes>"
      ]
     },
     "metadata": {
      "needs_background": "light"
     },
     "output_type": "display_data"
    },
    {
     "data": {
      "image/png": "[encoded data removed]",
      "text/plain": [
       "<Figure size 432x288 with 1 Axes>"
      ]
     },
     "metadata": {
      "needs_background": "light"
     },
     "output_type": "display_data"
    },
    {
     "data": {
      "image/png": "[encoded data removed]",
      "text/plain": [
       "<Figure size 432x288 with 1 Axes>"
      ]
     },
     "metadata": {
      "needs_background": "light"
     },
     "output_type": "display_data"
    },
    {
     "data": {
      "image/png": "[encoded data removed]",
      "text/plain": [
       "<Figure size 432x288 with 1 Axes>"
      ]
     },
     "metadata": {
      "needs_background": "light"
     },
     "output_type": "display_data"
    },
    {
     "data": {
      "image/png": "[encoded data removed]",
      "text/plain": [
       "<Figure size 432x288 with 1 Axes>"
      ]
     },
     "metadata": {
      "needs_background": "light"
     },
     "output_type": "display_data"
    },
    {
     "data": {
      "image/png": "[encoded data removed]",
      "text/plain": [
       "<Figure size 432x288 with 1 Axes>"
      ]
     },
     "metadata": {
      "needs_background": "light"
     },
     "output_type": "display_data"
    },
    {
     "data": {
      "image/png": "[encoded data removed]",
      "text/plain": [
       "<Figure size 432x288 with 1 Axes>"
      ]
     },
     "metadata": {
      "needs_background": "light"
     },
     "output_type": "display_data"
    },
    {
     "ename": "ValueError",
     "evalue": "num must be 1 <= num <= 12, not 13",
     "output_type": "error",
     "traceback": [
      "\u001b[1;31m---------------------------------------------------------------------------\u001b[0m",
      "\u001b[1;31mValueError\u001b[0m                                Traceback (most recent call last)",
      "Input \u001b[1;32mIn [15]\u001b[0m, in \u001b[0;36m<cell line: 23>\u001b[1;34m()\u001b[0m\n\u001b[0;32m     22\u001b[0m plt\u001b[38;5;241m.\u001b[39mfigure(figsize\u001b[38;5;241m=\u001b[39m(\u001b[38;5;241m10\u001b[39m,\u001b[38;5;241m12\u001b[39m))\n\u001b[0;32m     23\u001b[0m \u001b[38;5;28;01mfor\u001b[39;00m i,col \u001b[38;5;129;01min\u001b[39;00m \u001b[38;5;28menumerate\u001b[39m(data\u001b[38;5;241m.\u001b[39mcolumns,\u001b[38;5;241m1\u001b[39m):\n\u001b[1;32m---> 24\u001b[0m     \u001b[43mplt\u001b[49m\u001b[38;5;241;43m.\u001b[39;49m\u001b[43msubplot\u001b[49m\u001b[43m(\u001b[49m\u001b[38;5;241;43m4\u001b[39;49m\u001b[43m,\u001b[49m\u001b[38;5;241;43m3\u001b[39;49m\u001b[43m,\u001b[49m\u001b[43mi\u001b[49m\u001b[43m)\u001b[49m\n\u001b[0;32m     25\u001b[0m     plt\u001b[38;5;241m.\u001b[39mtitle(\u001b[38;5;124mf\u001b[39m\u001b[38;5;124m\"\u001b[39m\u001b[38;5;124mDistribution of \u001b[39m\u001b[38;5;132;01m{\u001b[39;00mcol\u001b[38;5;132;01m}\u001b[39;00m\u001b[38;5;124m Data\u001b[39m\u001b[38;5;124m\"\u001b[39m)\n\u001b[0;32m     26\u001b[0m     sns\u001b[38;5;241m.\u001b[39mhistplot(data[col],kde\u001b[38;5;241m=\u001b[39m\u001b[38;5;28;01mTrue\u001b[39;00m)\n",
      "File \u001b[1;32m~\\anaconda3\\lib\\site-packages\\matplotlib\\pyplot.py:1268\u001b[0m, in \u001b[0;36msubplot\u001b[1;34m(*args, **kwargs)\u001b[0m\n\u001b[0;32m   1265\u001b[0m fig \u001b[38;5;241m=\u001b[39m gcf()\n\u001b[0;32m   1267\u001b[0m \u001b[38;5;66;03m# First, search for an existing subplot with a matching spec.\u001b[39;00m\n\u001b[1;32m-> 1268\u001b[0m key \u001b[38;5;241m=\u001b[39m \u001b[43mSubplotSpec\u001b[49m\u001b[38;5;241;43m.\u001b[39;49m\u001b[43m_from_subplot_args\u001b[49m\u001b[43m(\u001b[49m\u001b[43mfig\u001b[49m\u001b[43m,\u001b[49m\u001b[43m \u001b[49m\u001b[43margs\u001b[49m\u001b[43m)\u001b[49m\n\u001b[0;32m   1270\u001b[0m \u001b[38;5;28;01mfor\u001b[39;00m ax \u001b[38;5;129;01min\u001b[39;00m fig\u001b[38;5;241m.\u001b[39maxes:\n\u001b[0;32m   1271\u001b[0m     \u001b[38;5;66;03m# if we found an axes at the position sort out if we can re-use it\u001b[39;00m\n\u001b[0;32m   1272\u001b[0m     \u001b[38;5;28;01mif\u001b[39;00m \u001b[38;5;28mhasattr\u001b[39m(ax, \u001b[38;5;124m'\u001b[39m\u001b[38;5;124mget_subplotspec\u001b[39m\u001b[38;5;124m'\u001b[39m) \u001b[38;5;129;01mand\u001b[39;00m ax\u001b[38;5;241m.\u001b[39mget_subplotspec() \u001b[38;5;241m==\u001b[39m key:\n\u001b[0;32m   1273\u001b[0m         \u001b[38;5;66;03m# if the user passed no kwargs, re-use\u001b[39;00m\n",
      "File \u001b[1;32m~\\anaconda3\\lib\\site-packages\\matplotlib\\gridspec.py:608\u001b[0m, in \u001b[0;36mSubplotSpec._from_subplot_args\u001b[1;34m(figure, args)\u001b[0m\n\u001b[0;32m    606\u001b[0m \u001b[38;5;28;01melse\u001b[39;00m:\n\u001b[0;32m    607\u001b[0m     \u001b[38;5;28;01mif\u001b[39;00m \u001b[38;5;129;01mnot\u001b[39;00m \u001b[38;5;28misinstance\u001b[39m(num, Integral) \u001b[38;5;129;01mor\u001b[39;00m num \u001b[38;5;241m<\u001b[39m \u001b[38;5;241m1\u001b[39m \u001b[38;5;129;01mor\u001b[39;00m num \u001b[38;5;241m>\u001b[39m rows\u001b[38;5;241m*\u001b[39mcols:\n\u001b[1;32m--> 608\u001b[0m         \u001b[38;5;28;01mraise\u001b[39;00m \u001b[38;5;167;01mValueError\u001b[39;00m(\n\u001b[0;32m    609\u001b[0m             \u001b[38;5;124mf\u001b[39m\u001b[38;5;124m\"\u001b[39m\u001b[38;5;124mnum must be 1 <= num <= \u001b[39m\u001b[38;5;132;01m{\u001b[39;00mrows\u001b[38;5;241m*\u001b[39mcols\u001b[38;5;132;01m}\u001b[39;00m\u001b[38;5;124m, not \u001b[39m\u001b[38;5;132;01m{\u001b[39;00mnum\u001b[38;5;132;01m!r}\u001b[39;00m\u001b[38;5;124m\"\u001b[39m)\n\u001b[0;32m    610\u001b[0m     i \u001b[38;5;241m=\u001b[39m j \u001b[38;5;241m=\u001b[39m num\n\u001b[0;32m    611\u001b[0m \u001b[38;5;28;01mreturn\u001b[39;00m gs[i\u001b[38;5;241m-\u001b[39m\u001b[38;5;241m1\u001b[39m:j]\n",
      "\u001b[1;31mValueError\u001b[0m: num must be 1 <= num <= 12, not 13"
     ]
    },
    {
     "data": {
      "text/plain": [
       "<Figure size 432x288 with 0 Axes>"
      ]
     },
     "metadata": {},
     "output_type": "display_data"
    }
   ],
   "source": [
    "import pandas as pd #in this project to use read_csv\n",
    "from pandas import read_csv #to read a file as acommon data datatype in pandas i.e dataframe\n",
    "from  sklearn.model_selection  import train_test_split #for testing and training purpose\n",
    "from sklearn.linear_model import LinearRegression #the algorithm selected to train our model\n",
    "import seaborn as sns #in this assignment for plotting\n",
    "from pandas.plotting import scatter_matrix#to write matrices\n",
    "from sklearn.metrics import accuracy_score  #we use for predict accuracy\n",
    "from sklearn import preprocessing #for data preprocessing mainly in this project cleaning\n",
    "import matplotlib.pyplot as plt #to plot shapes\n",
    "path=(\"C:/Users/WIN- 10/Downloads/Titanic_Dataset.csv\")\n",
    "data=read_csv(path)#read csv file using pandas\n",
    "data.describe()\n",
    "data.info()\n",
    "scaler = preprocessing.MinMaxScaler()#the code to  normalize the age\n",
    "names = [\"age\"]\n",
    "d = scaler.fit_transform(data[names])\n",
    "scaled_df = pd.DataFrame(d, columns=names)\n",
    "scaled_df.head(50)\n",
    "data.shape\n",
    "data.isna().sum()\n",
    "print(data.describe().T)\n",
    "plt.figure(figsize=(10,12))\n",
    "for i,col in enumerate(data.columns,1):\n",
    "    plt.subplot(4,3,i)\n",
    "    plt.title(f\"Distribution of {col} Data\")\n",
    "    sns.histplot(data[col],kde=True)\n",
    "\n",
    "    plt.plot()\n",
    "    plt.show()\n",
    "print('\\n')\n",
    "\n",
    "\n",
    "# sns.pairplot(data,x_vars=[\"PassangerId\",\"Pclass\",\"Name\",\"Sex\",\"Age\",\"Sibsp\",\"Parch\",\"Ticket\",\"Fare\",\"Cabin\",\"Embarked\", axis =1],y_vars= \"Survived\",axis=1)\n",
    "def clean(data):\n",
    "    data=data.drop([\"Ticket\",\"Cabin\",\"Name\",\"PassengerId\"], axis=1)\n",
    "    cols=[\"SibSp\",\"Parch\",\"Fare\",\"age\"]\n",
    "    for col in cols:\n",
    "        data[col].fillna(data[col].median(),inplace=True)\n",
    "    data.Embarked.fillna(\"U\" ,inplace=True)#to replace embarked with most frequent value\n",
    "    return data       \n",
    "data=clean(data)\n",
    "print(data)\n",
    "le=preprocessing.LabelEncoder()\n",
    "cols=[\"Embarked\",\"Sex\"]#change Embarked and sex into number for learning purpose\n",
    "for col in cols:\n",
    "    data[col]=le.fit_transform(data[col])#loop over cols to fit outr model\n",
    "# print(data)\n",
    "print(le.classes_)\n",
    "\n",
    "#visualization using different techniques\n",
    "fig,axs=plt.subplots(nrows=2,ncols=2,figsize=(17,12));\n",
    "fig.suptitle(\"count plot visualization\",c=\"green\",size=25)\n",
    "sns.countplot(\"Survived\",data=data,hue=\"Sex\" ,ax=axs[0][0])\n",
    "axs[0][0].set_title(\"visualization of survived values with respect to 'sex'\",c='purple')\n",
    "\n",
    "sns.countplot(\"Survived\",data=data,hue=\"SibSp\" ,ax=axs[0][1])\n",
    "axs[0][1].set_title(\"visualization of survived values with respect to number of siblings and spouse\",c='purple')\n",
    "axs[0][1].legend(title=\"SIBSP\",loc='upper right')\n",
    "                 \n",
    "sns.countplot(\"Survived\",data=data,hue=\"Parch\" ,ax=axs[1][0])\n",
    "axs[1][0].set_title(\"visualization of survived values with respect to parent and children\",c='purple')\n",
    "axs[1][0].legend(title=\"PARCH\",loc='upper right')    \n",
    "\n",
    "sns.countplot(\"Survived\",data=data,hue=\"Embarked\" ,ax=axs[1][1])\n",
    "axs[1][0].set_title(\"visualization of survived values with respect to embarked\",c='purple')\n",
    "axs[1][0].legend(title=\"EMBARKED\",loc='upper right') \n",
    "plt.show()\n"
   ]
  },
  {
   "cell_type": "code",
   "execution_count": 16,
   "id": "09e3ee27",
   "metadata": {},
   "outputs": [],
   "source": [
    "#import important liberaries to train our model\n",
    "from sklearn.linear_model import LogisticRegression\n",
    "from sklearn.tree import DecisionTreeClassifier\n",
    "from sklearn.ensemble import RandomForestClassifier\n",
    "from sklearn.naive_bayes import GaussianNB\n",
    "from sklearn.neighbors import KNeighborsClassifier"
   ]
  },
  {
   "cell_type": "code",
   "execution_count": 17,
   "id": "5efbad47",
   "metadata": {},
   "outputs": [
    {
     "ename": "NameError",
     "evalue": "name 'x' is not defined",
     "output_type": "error",
     "traceback": [
      "\u001b[1;31m---------------------------------------------------------------------------\u001b[0m",
      "\u001b[1;31mNameError\u001b[0m                                 Traceback (most recent call last)",
      "Input \u001b[1;32mIn [17]\u001b[0m, in \u001b[0;36m<cell line: 5>\u001b[1;34m()\u001b[0m\n\u001b[0;32m      3\u001b[0m \u001b[38;5;28;01mimport\u001b[39;00m \u001b[38;5;21;01mitertools\u001b[39;00m\n\u001b[0;32m      4\u001b[0m \u001b[38;5;28;01mfrom\u001b[39;00m  \u001b[38;5;21;01msklearn\u001b[39;00m\u001b[38;5;21;01m.\u001b[39;00m\u001b[38;5;21;01mmodel_selection\u001b[39;00m  \u001b[38;5;28;01mimport\u001b[39;00m train_test_split \u001b[38;5;66;03m#for testing and training purpose\u001b[39;00m\n\u001b[1;32m----> 5\u001b[0m x_train,x_test,y_train,y_test\u001b[38;5;241m=\u001b[39mtrain_test_split(\u001b[43mx\u001b[49m,y,test_size\u001b[38;5;241m=\u001b[39m\u001b[38;5;241m0.2\u001b[39m,random_state\u001b[38;5;241m=\u001b[39m\u001b[38;5;241m42\u001b[39m)\u001b[38;5;66;03m#split our data into train and test\u001b[39;00m\n\u001b[0;32m      6\u001b[0m l_regression\u001b[38;5;241m=\u001b[39mLogisticRegression()\n\u001b[0;32m      7\u001b[0m LR_model\u001b[38;5;241m=\u001b[39ml_regression\u001b[38;5;241m.\u001b[39mfit(x_train,y_train)\u001b[38;5;66;03m#logisyic regression model\u001b[39;00m\n",
      "\u001b[1;31mNameError\u001b[0m: name 'x' is not defined"
     ]
    }
   ],
   "source": [
    "#logistic regression\n",
    "import numpy as np#for use in confusion matrix\n",
    "import itertools\n",
    "from  sklearn.model_selection  import train_test_split #for testing and training purpose\n",
    "x_train,x_test,y_train,y_test=train_test_split(x,y,test_size=0.2,random_state=42)#split our data into train and test\n",
    "l_regression=LogisticRegression()\n",
    "LR_model=l_regression.fit(x_train,y_train)#logisyic regression model\n",
    "l_regression_score=round(l_regression.score(x_train,y_train)*100,2)\n",
    "prediction=LR_model.predict(x_test)\n",
    "print(prediction)\n",
    "print(\"*************************************************************************\")#just for style \n",
    "\n",
    "print(\"the accuracy for logistic regression model is \",l_regression_score)\n",
    "#this code mainly designed for drawing confusion matrices\n",
    "from sklearn.metrics import confusion_matrix\n",
    "from sklearn import metrics\n",
    "#A fundction that plots confusion matrix \n",
    "def plot_confusion_matrix(cm, classes,\n",
    "                          normalize=False,\n",
    "                          title='Confusion matrix',\n",
    "                          cmap=plt.cm.Blues):\n",
    "    \"\"\"\n",
    "    This function prints and plots the confusion matrix.\n",
    "    Normalization can be applied by setting `normalize=True`.\n",
    "    \"\"\"\n",
    "    if normalize:\n",
    "        cm = cm.astype('float') / cm.sum(axis=1)[: ,np.newaxis]\n",
    "        print(\"Normalized confusion matrix\")\n",
    "    else:\n",
    "        print('Confusion matrix, without normalization')\n",
    "\n",
    "    print(cm)\n",
    "\n",
    "    plt.imshow(cm, interpolation='nearest', cmap=cmap)\n",
    "    plt.title(title)\n",
    "    plt.colorbar()\n",
    "    tick_marks = np.arange(len(classes))\n",
    "    plt.xticks(tick_marks, classes, rotation=45)\n",
    "    plt.yticks(tick_marks, classes)\n",
    "\n",
    "    fmt = '.2f' if normalize else 'd'\n",
    "    thresh = cm.max() / 2.\n",
    "    for i, j in itertools.product(range(cm.shape[0]), range(cm.shape[1])):\n",
    "        plt.text(j, i, format(cm[i, j], fmt),\n",
    "                 horizontalalignment=\"center\",\n",
    "                 color=\"white\" if cm[i, j] > thresh else \"black\")\n",
    "\n",
    "    plt.tight_layout()\n",
    "    plt.ylabel('True label')\n",
    "    plt.xlabel('Predicted label')\n",
    "print(confusion_matrix(y_test,prediction, labels=[1,0]))\n",
    "\n",
    "cnf_matrix = confusion_matrix(y_test, prediction, labels=[1,0])\n",
    "np.set_printoptions(precision=2)\n",
    "\n",
    "plt.figure()\n",
    "plot_confusion_matrix(cnf_matrix, classes=['Survived','Not Survived'],normalize= False,  title='Confusion matrix')\n",
    "#Classification report of the logistic regresison\n",
    "from sklearn.metrics import classification_report\n",
    "print (classification_report(y_test, prediction))\n"
   ]
  },
  {
   "cell_type": "code",
   "execution_count": null,
   "id": "71d8cb46",
   "metadata": {},
   "outputs": [],
   "source": [
    "\n",
    "r_forest=RandomForestClassifier(n_estimators=100,criterion='entropy',random_state=0)\n",
    "RF_model=r_forest.fit(x_train,y_train)#random forest model\n",
    "r_forest_score=round(r_forest.score(x_train,y_train)*100,2)\n",
    "RF_output=RF_model.predict(x_test)\n",
    "print(RF_output)\n",
    "print(\"***************************************************\")\n",
    "print(\"the accuracy of random forest model is\",r_forest_score)\n",
    "from sklearn.metrics import confusion_matrix\n",
    "from sklearn import metrics\n",
    "#A fundction that plots confusion matrix \n",
    "def plot_confusion_matrix(cm, classes,\n",
    "                          normalize=False,\n",
    "                          title='Confusion matrix',\n",
    "                          cmap=plt.cm.Blues):\n",
    "    \"\"\"\n",
    "    This function prints and plots the confusion matrix.\n",
    "    Normalization can be applied by setting `normalize=True`.\n",
    "    \"\"\"\n",
    "    if normalize:\n",
    "        cm = cm.astype('float') / cm.sum(axis=1)[:, np.newaxis]\n",
    "        print(\"Normalized confusion matrix\")\n",
    "    else:\n",
    "        print('Confusion matrix, without normalization')\n",
    "\n",
    "    print(cm)\n",
    "\n",
    "    plt.imshow(cm, interpolation='nearest', cmap=cmap)\n",
    "    plt.title(title)\n",
    "    plt.colorbar()\n",
    "    tick_marks = np.arange(len(classes))\n",
    "    plt.xticks(tick_marks, classes, rotation=45)\n",
    "    plt.yticks(tick_marks, classes)\n",
    "\n",
    "    fmt = '.2f' if normalize else 'd'\n",
    "    thresh = cm.max() / 2.\n",
    "    for i, j in itertools.product(range(cm.shape[0]), range(cm.shape[1])):\n",
    "        plt.text(j, i, format(cm[i, j], fmt),\n",
    "                 horizontalalignment=\"center\",\n",
    "                 color=\"white\" if cm[i, j] > thresh else \"black\")\n",
    "\n",
    "    plt.tight_layout()\n",
    "    plt.ylabel('True label')\n",
    "    plt.xlabel('Predicted label')\n",
    "print(confusion_matrix(y_test,prediction, labels=[1,0]))\n",
    "\n",
    "cnf_matrix = confusion_matrix(y_test, prediction, labels=[1,0])\n",
    "np.set_printoptions(precision=2)\n",
    "\n",
    "plt.figure()\n",
    "plot_confusion_matrix(cnf_matrix, classes=['Survived','Not Survived'],normalize= False,  title='Confusion matrix')\n",
    "#Classification report of the logistic regresison\n",
    "from sklearn.metrics import classification_report#for report purpose\n",
    "print (classification_report(y_test, RF_output))\n"
   ]
  },
  {
   "cell_type": "code",
   "execution_count": null,
   "id": "e83c1580",
   "metadata": {},
   "outputs": [],
   "source": [
    "#descion tree model\n",
    "d_tree=DecisionTreeClassifier()\n",
    "D_model=d_tree.fit(x_train,y_train)#Descision tree model\n",
    "d_tree_score=round(d_tree.score(x_train,y_train)*100,2)#round and express in percentage of prediction\n",
    "prediction=D_model.predict(x_test)\n",
    "print(prediction)\n",
    "print(\"********************************************************************************\")\n",
    "print(\"the accuracy of descion tree model is \",d_tree_score)"
   ]
  },
  {
   "cell_type": "code",
   "execution_count": null,
   "id": "9b381349",
   "metadata": {},
   "outputs": [],
   "source": [
    "# k nearest neighbors\n",
    "k_nearest= KNeighborsClassifier(n_neighbors=3,metric='minkowski',p=2)\n",
    "K_model=k_nearest.fit(x_train,y_train)\n",
    "k_nearest_score=round(model.score(x_train,y_train)*100,2)\n",
    "prediction=K_model.predict(x_test)\n",
    "print(prediction)\n",
    "print(\"**************************************************************\")\n",
    "print(\"the accuracy of k_nearest tree model is \",k_nearest_score)"
   ]
  },
  {
   "cell_type": "code",
   "execution_count": null,
   "id": "c6edcd34",
   "metadata": {},
   "outputs": [],
   "source": [
    "#gaussian NB\n",
    "gaussian=GaussianNB()\n",
    "G_model=gaussian.fit(x_train,y_train)\n",
    "gaussian_model_score=round(model.score(x_train,y_train)*100,2)\n",
    "prediction=G_model.predict(x_test)\n",
    "print(prediction)\n",
    "print(\"**************************************************************\")\n",
    "print(\"the accuracy of naive bayes model is \",gaussian_model_score)"
   ]
  },
  {
   "cell_type": "code",
   "execution_count": null,
   "id": "6d8e85f3",
   "metadata": {},
   "outputs": [],
   "source": [
    "# import pandas as pd\n",
    "selection=pd.DataFrame({'Models':['Logistic','DecisionTree','RandomForest','GaussianNB','KNN'],\n",
    "                        'Accuracy values':[l_regression_score,d_tree_score,r_forest_score,gaussian_model_score,k_nearest_score]})\n",
    "selection.sort_values(by='Accuracy values',ascending=False)#to see the performance from the above outputs"
   ]
  },
  {
   "cell_type": "code",
   "execution_count": null,
   "id": "96a18717",
   "metadata": {},
   "outputs": [],
   "source": [
    "import matplotlib.style as style\n",
    "style.use('ggplot')\n",
    "sns.set_theme(style=\"whitegrid\")\n",
    "sns.barplot(x=\"Models\",y=\"Accuracy values\",data=selection,palette=\"BuGn_r\");\n",
    "plt.xticks(rotation=45)\n",
    "plt.title(\"bar plot for comaring scores for different models\",weight=\"bold\" ,size=15)"
   ]
  },
  {
   "cell_type": "code",
   "execution_count": null,
   "id": "3d0ff726",
   "metadata": {},
   "outputs": [],
   "source": [
    "#from the graph we can choose either Descion tree or Random forest\n",
    "#let us predict using random forest\n",
    "RF_output=RF_model.predict(x_test)\n",
    "print(RF_output)"
   ]
  }
 ],
 "metadata": {
  "kernelspec": {
   "display_name": "Python 3 (ipykernel)",
   "language": "python",
   "name": "python3"
  },
  "language_info": {
   "codemirror_mode": {
    "name": "ipython",
    "version": 3
   },
   "file_extension": ".py",
   "mimetype": "text/x-python",
   "name": "python",
   "nbconvert_exporter": "python",
   "pygments_lexer": "ipython3",
   "version": "3.9.12"
  }
 },
 "nbformat": 4,
 "nbformat_minor": 5
}
