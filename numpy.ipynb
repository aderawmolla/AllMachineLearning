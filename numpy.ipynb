{
 "cells": [
  {
   "cell_type": "code",
   "execution_count": null,
   "id": "b4b300cd",
   "metadata": {},
   "outputs": [],
   "source": [
    "#         Agenda\n",
    "#creating array from Ethiopian cities to port dataframe\n",
    "#create and select arrays\n",
    "#operations on arrays\n",
    "#aggregation on arrays\n",
    "#nut butter practical example\n",
    "#sorting arrays\n",
    "#turn images into numpy arrays"
   ]
  },
  {
   "cell_type": "code",
   "execution_count": 2,
   "id": "4d2d9f9e",
   "metadata": {},
   "outputs": [],
   "source": [
    "#import np and pd liberary\n",
    "import numpy as np\n",
    "import pandas as pd"
   ]
  },
  {
   "cell_type": "code",
   "execution_count": 23,
   "id": "0e70a5ea",
   "metadata": {},
   "outputs": [
    {
     "data": {
      "text/html": [
       "<div>\n",
       "<style scoped>\n",
       "    .dataframe tbody tr th:only-of-type {\n",
       "        vertical-align: middle;\n",
       "    }\n",
       "\n",
       "    .dataframe tbody tr th {\n",
       "        vertical-align: top;\n",
       "    }\n",
       "\n",
       "    .dataframe thead th {\n",
       "        text-align: right;\n",
       "    }\n",
       "</style>\n",
       "<table border=\"1\" class=\"dataframe\">\n",
       "  <thead>\n",
       "    <tr style=\"text-align: right;\">\n",
       "      <th></th>\n",
       "      <th>Unnamed: 0.1</th>\n",
       "      <th>Unnamed: 0</th>\n",
       "      <th>city_name</th>\n",
       "      <th>region</th>\n",
       "      <th>zone</th>\n",
       "      <th>massawa_road_distance</th>\n",
       "      <th>massawa_road_duration</th>\n",
       "      <th>latitude</th>\n",
       "      <th>longitude</th>\n",
       "    </tr>\n",
       "  </thead>\n",
       "  <tbody>\n",
       "    <tr>\n",
       "      <th>0</th>\n",
       "      <td>198</td>\n",
       "      <td>198</td>\n",
       "      <td>Gidole</td>\n",
       "      <td>Southern Nations, Nationalities, and People's ...</td>\n",
       "      <td>Dirashe</td>\n",
       "      <td>1060.0</td>\n",
       "      <td>91937.0</td>\n",
       "      <td>5.649749</td>\n",
       "      <td>37.369368</td>\n",
       "    </tr>\n",
       "    <tr>\n",
       "      <th>1</th>\n",
       "      <td>34</td>\n",
       "      <td>34</td>\n",
       "      <td>Mendi</td>\n",
       "      <td>Oromia</td>\n",
       "      <td>West Wellega</td>\n",
       "      <td>982.0</td>\n",
       "      <td>98728.0</td>\n",
       "      <td>9.797018</td>\n",
       "      <td>35.099369</td>\n",
       "    </tr>\n",
       "    <tr>\n",
       "      <th>2</th>\n",
       "      <td>114</td>\n",
       "      <td>114</td>\n",
       "      <td>Danan</td>\n",
       "      <td>Somali</td>\n",
       "      <td>Gode</td>\n",
       "      <td>1212.0</td>\n",
       "      <td>102303.0</td>\n",
       "      <td>6.513115</td>\n",
       "      <td>43.495770</td>\n",
       "    </tr>\n",
       "    <tr>\n",
       "      <th>3</th>\n",
       "      <td>42</td>\n",
       "      <td>42</td>\n",
       "      <td>Nedjo</td>\n",
       "      <td>Oromia</td>\n",
       "      <td>West Wellega</td>\n",
       "      <td>938.0</td>\n",
       "      <td>94483.0</td>\n",
       "      <td>9.502294</td>\n",
       "      <td>35.502838</td>\n",
       "    </tr>\n",
       "    <tr>\n",
       "      <th>4</th>\n",
       "      <td>240</td>\n",
       "      <td>240</td>\n",
       "      <td>Bahir Dar</td>\n",
       "      <td>Amhara</td>\n",
       "      <td>West Gojam</td>\n",
       "      <td>578.0</td>\n",
       "      <td>58074.0</td>\n",
       "      <td>11.574209</td>\n",
       "      <td>37.361353</td>\n",
       "    </tr>\n",
       "    <tr>\n",
       "      <th>5</th>\n",
       "      <td>190</td>\n",
       "      <td>190</td>\n",
       "      <td>Turmi</td>\n",
       "      <td>Southern Nations, Nationalities, and People's ...</td>\n",
       "      <td>Omo</td>\n",
       "      <td>1172.0</td>\n",
       "      <td>105061.0</td>\n",
       "      <td>4.964093</td>\n",
       "      <td>36.487824</td>\n",
       "    </tr>\n",
       "    <tr>\n",
       "      <th>6</th>\n",
       "      <td>47</td>\n",
       "      <td>47</td>\n",
       "      <td>Robe</td>\n",
       "      <td>Oromia</td>\n",
       "      <td>Bale</td>\n",
       "      <td>953.0</td>\n",
       "      <td>81860.0</td>\n",
       "      <td>7.119903</td>\n",
       "      <td>40.006895</td>\n",
       "    </tr>\n",
       "    <tr>\n",
       "      <th>7</th>\n",
       "      <td>267</td>\n",
       "      <td>267</td>\n",
       "      <td>Meshenti</td>\n",
       "      <td>Amhara</td>\n",
       "      <td>West Gojam</td>\n",
       "      <td>588.0</td>\n",
       "      <td>58685.0</td>\n",
       "      <td>11.474502</td>\n",
       "      <td>37.283833</td>\n",
       "    </tr>\n",
       "    <tr>\n",
       "      <th>8</th>\n",
       "      <td>246</td>\n",
       "      <td>246</td>\n",
       "      <td>Chew Ber</td>\n",
       "      <td>Amhara</td>\n",
       "      <td>North Gondar</td>\n",
       "      <td>368.0</td>\n",
       "      <td>35268.0</td>\n",
       "      <td>13.401127</td>\n",
       "      <td>38.001626</td>\n",
       "    </tr>\n",
       "    <tr>\n",
       "      <th>9</th>\n",
       "      <td>151</td>\n",
       "      <td>151</td>\n",
       "      <td>Mekele</td>\n",
       "      <td>Tigray</td>\n",
       "      <td>South Tigray</td>\n",
       "      <td>248.0</td>\n",
       "      <td>21492.0</td>\n",
       "      <td>13.493550</td>\n",
       "      <td>39.465738</td>\n",
       "    </tr>\n",
       "    <tr>\n",
       "      <th>10</th>\n",
       "      <td>214</td>\n",
       "      <td>214</td>\n",
       "      <td>Zefine</td>\n",
       "      <td>Southern Nations, Nationalities, and People's ...</td>\n",
       "      <td>Gamo Gofa</td>\n",
       "      <td>997.0</td>\n",
       "      <td>87629.0</td>\n",
       "      <td>6.471833</td>\n",
       "      <td>37.638279</td>\n",
       "    </tr>\n",
       "  </tbody>\n",
       "</table>\n",
       "</div>"
      ],
      "text/plain": [
       "    Unnamed: 0.1  Unnamed: 0  city_name  \\\n",
       "0            198         198     Gidole   \n",
       "1             34          34      Mendi   \n",
       "2            114         114      Danan   \n",
       "3             42          42      Nedjo   \n",
       "4            240         240  Bahir Dar   \n",
       "5            190         190      Turmi   \n",
       "6             47          47       Robe   \n",
       "7            267         267   Meshenti   \n",
       "8            246         246   Chew Ber   \n",
       "9            151         151     Mekele   \n",
       "10           214         214     Zefine   \n",
       "\n",
       "                                               region          zone  \\\n",
       "0   Southern Nations, Nationalities, and People's ...       Dirashe   \n",
       "1                                              Oromia  West Wellega   \n",
       "2                                              Somali          Gode   \n",
       "3                                              Oromia  West Wellega   \n",
       "4                                              Amhara    West Gojam   \n",
       "5   Southern Nations, Nationalities, and People's ...           Omo   \n",
       "6                                              Oromia          Bale   \n",
       "7                                              Amhara    West Gojam   \n",
       "8                                              Amhara  North Gondar   \n",
       "9                                              Tigray  South Tigray   \n",
       "10  Southern Nations, Nationalities, and People's ...     Gamo Gofa   \n",
       "\n",
       "    massawa_road_distance  massawa_road_duration   latitude  longitude  \n",
       "0                  1060.0                91937.0   5.649749  37.369368  \n",
       "1                   982.0                98728.0   9.797018  35.099369  \n",
       "2                  1212.0               102303.0   6.513115  43.495770  \n",
       "3                   938.0                94483.0   9.502294  35.502838  \n",
       "4                   578.0                58074.0  11.574209  37.361353  \n",
       "5                  1172.0               105061.0   4.964093  36.487824  \n",
       "6                   953.0                81860.0   7.119903  40.006895  \n",
       "7                   588.0                58685.0  11.474502  37.283833  \n",
       "8                   368.0                35268.0  13.401127  38.001626  \n",
       "9                   248.0                21492.0  13.493550  39.465738  \n",
       "10                  997.0                87629.0   6.471833  37.638279  "
      ]
     },
     "execution_count": 23,
     "metadata": {},
     "output_type": "execute_result"
    }
   ],
   "source": [
    "sample=pd.read_csv(\"sample.csv\")\n",
    "sample[\"massawa_road_distance\"]=sample[\"massawa_road_distance\"].astype(float)\n",
    "sample[\"massawa_road_duration\"]=sample[\"massawa_road_duration\"].astype(float)\n",
    "sample"
   ]
  },
  {
   "cell_type": "code",
   "execution_count": 24,
   "id": "f58d2eeb",
   "metadata": {},
   "outputs": [
    {
     "name": "stdout",
     "output_type": "stream",
     "text": [
      "<class 'pandas.core.frame.DataFrame'>\n",
      "RangeIndex: 11 entries, 0 to 10\n",
      "Data columns (total 9 columns):\n",
      " #   Column                 Non-Null Count  Dtype  \n",
      "---  ------                 --------------  -----  \n",
      " 0   Unnamed: 0.1           11 non-null     int64  \n",
      " 1   Unnamed: 0             11 non-null     int64  \n",
      " 2   city_name              11 non-null     object \n",
      " 3   region                 11 non-null     object \n",
      " 4   zone                   11 non-null     object \n",
      " 5   massawa_road_distance  11 non-null     float64\n",
      " 6   massawa_road_duration  11 non-null     float64\n",
      " 7   latitude               11 non-null     float64\n",
      " 8   longitude              11 non-null     float64\n",
      "dtypes: float64(4), int64(2), object(3)\n",
      "memory usage: 920.0+ bytes\n"
     ]
    }
   ],
   "source": [
    "sample.info()"
   ]
  },
  {
   "cell_type": "code",
   "execution_count": 25,
   "id": "39054e21",
   "metadata": {},
   "outputs": [
    {
     "data": {
      "text/plain": [
       "array([[1.06000000e+03, 9.19370000e+04, 5.64974930e+00, 3.73693679e+01],\n",
       "       [9.82000000e+02, 9.87280000e+04, 9.79701750e+00, 3.50993687e+01],\n",
       "       [1.21200000e+03, 1.02303000e+05, 6.51311450e+00, 4.34957704e+01],\n",
       "       [9.38000000e+02, 9.44830000e+04, 9.50229360e+00, 3.55028379e+01],\n",
       "       [5.78000000e+02, 5.80740000e+04, 1.15742086e+01, 3.73613533e+01],\n",
       "       [1.17200000e+03, 1.05061000e+05, 4.96409330e+00, 3.64878241e+01],\n",
       "       [9.53000000e+02, 8.18600000e+04, 7.11990310e+00, 4.00068953e+01],\n",
       "       [5.88000000e+02, 5.86850000e+04, 1.14745024e+01, 3.72838328e+01],\n",
       "       [3.68000000e+02, 3.52680000e+04, 1.34011273e+01, 3.80016255e+01],\n",
       "       [2.48000000e+02, 2.14920000e+04, 1.34935504e+01, 3.94657380e+01],\n",
       "       [9.97000000e+02, 8.76290000e+04, 6.47183270e+00, 3.76382794e+01]])"
      ]
     },
     "execution_count": 25,
     "metadata": {},
     "output_type": "execute_result"
    }
   ],
   "source": [
    "sample_array = sample[[\"massawa_road_distance\",\"massawa_road_duration\",\"latitude\",\"longitude\"]].to_numpy()\n",
    "sample_array"
   ]
  },
  {
   "cell_type": "markdown",
   "id": "33875dee",
   "metadata": {},
   "source": [
    "# creating and selecting arrays"
   ]
  },
  {
   "cell_type": "code",
   "execution_count": 4,
   "id": "adeca869",
   "metadata": {},
   "outputs": [
    {
     "data": {
      "text/plain": [
       "array([[1, 2, 3],\n",
       "       [3, 4, 5]])"
      ]
     },
     "execution_count": 4,
     "metadata": {},
     "output_type": "execute_result"
    }
   ],
   "source": [
    "#create two dimensional array\n",
    "a=np.array([[1,2,3],[3,4,5]])\n",
    "a\n"
   ]
  },
  {
   "cell_type": "code",
   "execution_count": 5,
   "id": "2402cbaf",
   "metadata": {},
   "outputs": [
    {
     "data": {
      "text/plain": [
       "array([1, 2, 3])"
      ]
     },
     "execution_count": 5,
     "metadata": {},
     "output_type": "execute_result"
    }
   ],
   "source": [
    "# the following are the same\n",
    "a[0]#select specific row \n",
    "a[0][:]"
   ]
  },
  {
   "cell_type": "code",
   "execution_count": 14,
   "id": "b1b2a8a1",
   "metadata": {},
   "outputs": [
    {
     "data": {
      "text/plain": [
       "array([3, 5])"
      ]
     },
     "execution_count": 14,
     "metadata": {},
     "output_type": "execute_result"
    }
   ],
   "source": [
    "# a[:,2]#select specific columun\n",
    "a[:,2]"
   ]
  },
  {
   "cell_type": "code",
   "execution_count": 10,
   "id": "0464af4a",
   "metadata": {},
   "outputs": [
    {
     "data": {
      "text/plain": [
       "array([[1., 1., 1.],\n",
       "       [1., 1., 1.]])"
      ]
     },
     "execution_count": 10,
     "metadata": {},
     "output_type": "execute_result"
    }
   ],
   "source": [
    "#create ones with dimensiona of 2 by 3\n",
    "ones=np.ones((2,3))\n",
    "ones"
   ]
  },
  {
   "cell_type": "code",
   "execution_count": 7,
   "id": "9502ca4d",
   "metadata": {},
   "outputs": [
    {
     "data": {
      "text/plain": [
       "array([[5, 5, 5],\n",
       "       [5, 5, 5]])"
      ]
     },
     "execution_count": 7,
     "metadata": {},
     "output_type": "execute_result"
    }
   ],
   "source": [
    "#create full array filled with 5\n",
    "full=np.full((2,3),5)\n",
    "full"
   ]
  },
  {
   "cell_type": "code",
   "execution_count": 3,
   "id": "315f1965",
   "metadata": {},
   "outputs": [
    {
     "data": {
      "text/plain": [
       "array([[0.58337479, 0.52152185, 0.32150371, 0.17746699, 0.16035779],\n",
       "       [0.19176878, 0.06715663, 0.62272998, 0.64920007, 0.71407182],\n",
       "       [0.31676192, 0.61415752, 0.12902808, 0.46542399, 0.69996804]])"
      ]
     },
     "execution_count": 3,
     "metadata": {},
     "output_type": "execute_result"
    }
   ],
   "source": [
    "#why rand is error  \"tuple' object cannot be interpreted as an integer\"\n",
    "np.random.random((3,5))"
   ]
  },
  {
   "cell_type": "code",
   "execution_count": 15,
   "id": "d7995b72",
   "metadata": {},
   "outputs": [],
   "source": [
    "d=np.identity(3)#identity matrices"
   ]
  },
  {
   "cell_type": "code",
   "execution_count": 16,
   "id": "9879dc2c",
   "metadata": {},
   "outputs": [
    {
     "data": {
      "text/plain": [
       "1.0"
      ]
     },
     "execution_count": 16,
     "metadata": {},
     "output_type": "execute_result"
    }
   ],
   "source": [
    "np.linalg.det(d)"
   ]
  },
  {
   "cell_type": "code",
   "execution_count": 20,
   "id": "204385f6",
   "metadata": {},
   "outputs": [
    {
     "data": {
      "text/plain": [
       "array([[2, 3, 4],\n",
       "       [5, 6, 7]])"
      ]
     },
     "execution_count": 20,
     "metadata": {},
     "output_type": "execute_result"
    }
   ],
   "source": [
    "np.array([[2,3,4],[5,6,7]])#why use two slashes"
   ]
  },
  {
   "cell_type": "code",
   "execution_count": 21,
   "id": "14ab3456",
   "metadata": {},
   "outputs": [],
   "source": [
    "#np vertical and horizontal stack"
   ]
  },
  {
   "cell_type": "code",
   "execution_count": 27,
   "id": "deff0394",
   "metadata": {},
   "outputs": [
    {
     "data": {
      "text/plain": [
       "array([[0.77132064, 0.02075195, 0.63364823, 0.74880388, 0.49850701],\n",
       "       [0.22479665, 0.19806286, 0.76053071, 0.16911084, 0.08833981],\n",
       "       [0.68535982, 0.95339335, 0.00394827, 0.51219226, 0.81262096]])"
      ]
     },
     "execution_count": 27,
     "metadata": {},
     "output_type": "execute_result"
    }
   ],
   "source": [
    "np.random.seed(seed=10)\n",
    "np.random.random((3,5))"
   ]
  },
  {
   "cell_type": "code",
   "execution_count": 23,
   "id": "18487b3d",
   "metadata": {},
   "outputs": [
    {
     "data": {
      "text/plain": [
       "array([[0.61252607, 0.72175532, 0.29187607, 0.91777412, 0.71457578],\n",
       "       [0.54254437, 0.14217005, 0.37334076, 0.67413362, 0.44183317],\n",
       "       [0.43401399, 0.61776698, 0.51313824, 0.65039718, 0.60103895]])"
      ]
     },
     "execution_count": 23,
     "metadata": {},
     "output_type": "execute_result"
    }
   ],
   "source": [
    "#refers index to be created\n",
    "np.random.rand(3,5)"
   ]
  },
  {
   "cell_type": "code",
   "execution_count": 3,
   "id": "b147aba1",
   "metadata": {},
   "outputs": [
    {
     "data": {
      "text/plain": [
       "array([[[0.09481038, 0.4271167 , 0.6988716 , 0.1863323 ],\n",
       "        [0.69615718, 0.57125658, 0.21581541, 0.94422068],\n",
       "        [0.56059775, 0.26348474, 0.11569995, 0.37135829]],\n",
       "\n",
       "       [[0.31315586, 0.22185316, 0.19596822, 0.66648253],\n",
       "        [0.89094498, 0.76024317, 0.5850182 , 0.16361217],\n",
       "        [0.0832811 , 0.58763904, 0.67906297, 0.15597267]]])"
      ]
     },
     "execution_count": 3,
     "metadata": {},
     "output_type": "execute_result"
    }
   ],
   "source": [
    "#three dimension array\n",
    "a3=np.random.rand(2,3,4)\n",
    "a3"
   ]
  },
  {
   "cell_type": "code",
   "execution_count": 4,
   "id": "daad3e9c",
   "metadata": {},
   "outputs": [
    {
     "data": {
      "text/plain": [
       "array([[[0.09481038, 0.4271167 , 0.6988716 , 0.1863323 ],\n",
       "        [0.69615718, 0.57125658, 0.21581541, 0.94422068],\n",
       "        [0.56059775, 0.26348474, 0.11569995, 0.37135829]]])"
      ]
     },
     "execution_count": 4,
     "metadata": {},
     "output_type": "execute_result"
    }
   ],
   "source": [
    "a3[:1]"
   ]
  },
  {
   "cell_type": "code",
   "execution_count": 21,
   "id": "b2fd3282",
   "metadata": {},
   "outputs": [
    {
     "data": {
      "text/plain": [
       "0.47504484950272197"
      ]
     },
     "execution_count": 21,
     "metadata": {},
     "output_type": "execute_result"
    }
   ],
   "source": [
    "#selecting a specfic element\n",
    "a3[0][2][0]"
   ]
  },
  {
   "cell_type": "markdown",
   "id": "185668f4",
   "metadata": {},
   "source": [
    "# operations on arrays using numpy"
   ]
  },
  {
   "cell_type": "code",
   "execution_count": 7,
   "id": "708e7e57",
   "metadata": {},
   "outputs": [
    {
     "data": {
      "text/plain": [
       "(array([2, 4, 5]),\n",
       " array([2, 3, 6]),\n",
       " array([[1, 4, 5],\n",
       "        [3, 2, 4]]),\n",
       " array([[[0.6409379 , 0.64896061, 0.24693335, 0.14852702],\n",
       "         [0.29994036, 0.14759699, 0.73597061, 0.9617051 ],\n",
       "         [0.18122573, 0.71732377, 0.05715204, 0.75239894]],\n",
       " \n",
       "        [[0.34485806, 0.61660528, 0.70560297, 0.78099139],\n",
       "         [0.32884753, 0.11851454, 0.95742867, 0.8386706 ],\n",
       "         [0.07267655, 0.43609267, 0.50085152, 0.21943497]]]))"
      ]
     },
     "execution_count": 7,
     "metadata": {},
     "output_type": "execute_result"
    }
   ],
   "source": [
    "#craeting one,two dimendsion array\n",
    "a0=np.array([2,4,5])\n",
    "a1=np.array([2,3,6])\n",
    "a2=np.array([[1,4,5],[3,2,4]])\n",
    "a3=np.random.rand(2,3,4)\n",
    "a0,a1,a2,a3"
   ]
  },
  {
   "cell_type": "code",
   "execution_count": 29,
   "id": "fc6b18e9",
   "metadata": {},
   "outputs": [
    {
     "data": {
      "text/plain": [
       "array([ 4, 12, 30])"
      ]
     },
     "execution_count": 29,
     "metadata": {},
     "output_type": "execute_result"
    }
   ],
   "source": [
    "#product of one dimensions\n",
    "a0*a1"
   ]
  },
  {
   "cell_type": "code",
   "execution_count": 48,
   "id": "ae416124",
   "metadata": {},
   "outputs": [
    {
     "data": {
      "text/plain": [
       "array([[ 2, 16, 25],\n",
       "       [ 6,  8, 20]])"
      ]
     },
     "execution_count": 48,
     "metadata": {},
     "output_type": "execute_result"
    }
   ],
   "source": [
    "#product of one with two dimensions\n",
    "a0*a2"
   ]
  },
  {
   "cell_type": "code",
   "execution_count": 30,
   "id": "cae032bb",
   "metadata": {},
   "outputs": [
    {
     "data": {
      "text/plain": [
       "array([0.69314718, 1.38629436, 1.60943791])"
      ]
     },
     "execution_count": 30,
     "metadata": {},
     "output_type": "execute_result"
    }
   ],
   "source": [
    "#logarithmic functions\n",
    "np.log(a0)"
   ]
  },
  {
   "cell_type": "code",
   "execution_count": 54,
   "id": "1379f9a8",
   "metadata": {},
   "outputs": [
    {
     "data": {
      "text/plain": [
       "array([ 4, 16, 25], dtype=int32)"
      ]
     },
     "execution_count": 54,
     "metadata": {},
     "output_type": "execute_result"
    }
   ],
   "source": [
    "#squre of a0\n",
    "a0 ** 2"
   ]
  },
  {
   "cell_type": "code",
   "execution_count": 56,
   "id": "e3206a56",
   "metadata": {},
   "outputs": [
    {
     "data": {
      "text/plain": [
       "array([ 4, 16, 25], dtype=int32)"
      ]
     },
     "execution_count": 56,
     "metadata": {},
     "output_type": "execute_result"
    }
   ],
   "source": [
    "#the same as a0 ** 2\n",
    "np.square(a0)"
   ]
  },
  {
   "cell_type": "code",
   "execution_count": 58,
   "id": "cdef2061",
   "metadata": {},
   "outputs": [
    {
     "data": {
      "text/plain": [
       "array([[ 1, 16, 25],\n",
       "       [ 9,  4, 16]], dtype=int32)"
      ]
     },
     "execution_count": 58,
     "metadata": {},
     "output_type": "execute_result"
    }
   ],
   "source": [
    "#squering two dimndsion\n",
    "np.square(a2)"
   ]
  },
  {
   "cell_type": "code",
   "execution_count": 59,
   "id": "2312a1f1",
   "metadata": {},
   "outputs": [
    {
     "data": {
      "text/plain": [
       "array([[0.        , 1.38629436, 1.60943791],\n",
       "       [1.09861229, 0.69314718, 1.38629436]])"
      ]
     },
     "execution_count": 59,
     "metadata": {},
     "output_type": "execute_result"
    }
   ],
   "source": [
    "#logarithm of two dimension\n",
    "np.log(a2)"
   ]
  },
  {
   "cell_type": "code",
   "execution_count": 60,
   "id": "4d2f5d5b",
   "metadata": {},
   "outputs": [
    {
     "data": {
      "text/plain": [
       "array([[0.5, 1. , 1. ],\n",
       "       [1.5, 0.5, 0.8]])"
      ]
     },
     "execution_count": 60,
     "metadata": {},
     "output_type": "execute_result"
    }
   ],
   "source": [
    "#division of two dimendsion by one dimension\n",
    "a2/a0"
   ]
  },
  {
   "cell_type": "code",
   "execution_count": 62,
   "id": "3ef64a58",
   "metadata": {},
   "outputs": [
    {
     "data": {
      "text/plain": [
       "array([[1., 1., 1.],\n",
       "       [1., 1., 1.]])"
      ]
     },
     "execution_count": 62,
     "metadata": {},
     "output_type": "execute_result"
    }
   ],
   "source": [
    "#division by itself\n",
    "a2/a2"
   ]
  },
  {
   "cell_type": "code",
   "execution_count": 64,
   "id": "f69fa122",
   "metadata": {},
   "outputs": [
    {
     "data": {
      "text/plain": [
       "array([[ 2, 16, 25],\n",
       "       [ 6,  8, 20]])"
      ]
     },
     "execution_count": 64,
     "metadata": {},
     "output_type": "execute_result"
    }
   ],
   "source": [
    "#product of one and two dimension\n",
    "a2*a0"
   ]
  },
  {
   "cell_type": "code",
   "execution_count": 65,
   "id": "7eedcf8d",
   "metadata": {},
   "outputs": [
    {
     "data": {
      "text/plain": [
       "array([[ 1, 16, 25],\n",
       "       [ 9,  4, 16]])"
      ]
     },
     "execution_count": 65,
     "metadata": {},
     "output_type": "execute_result"
    }
   ],
   "source": [
    "#product by itself\n",
    "a2*a2"
   ]
  },
  {
   "cell_type": "code",
   "execution_count": 66,
   "id": "a71e7025",
   "metadata": {},
   "outputs": [
    {
     "data": {
      "text/plain": [
       "array([[1, 0, 1],\n",
       "       [1, 0, 0]], dtype=int32)"
      ]
     },
     "execution_count": 66,
     "metadata": {},
     "output_type": "execute_result"
    }
   ],
   "source": [
    "#division\n",
    "a2%2"
   ]
  },
  {
   "cell_type": "code",
   "execution_count": 68,
   "id": "b739727d",
   "metadata": {},
   "outputs": [
    {
     "data": {
      "text/plain": [
       "array([[  2.71828183,  54.59815003, 148.4131591 ],\n",
       "       [ 20.08553692,   7.3890561 ,  54.59815003]])"
      ]
     },
     "execution_count": 68,
     "metadata": {},
     "output_type": "execute_result"
    }
   ],
   "source": [
    "#euler constant the power of array\n",
    "np.exp(a2)"
   ]
  },
  {
   "cell_type": "code",
   "execution_count": 70,
   "id": "db2afd65",
   "metadata": {},
   "outputs": [
    {
     "data": {
      "text/plain": [
       "array([  7.3890561 ,  54.59815003, 148.4131591 ])"
      ]
     },
     "execution_count": 70,
     "metadata": {},
     "output_type": "execute_result"
    }
   ],
   "source": [
    "#e the power of number\n",
    "np.exp(a0)"
   ]
  },
  {
   "cell_type": "markdown",
   "id": "a3fc3b62",
   "metadata": {},
   "source": [
    "# agggregation on arrays using numpy"
   ]
  },
  {
   "cell_type": "code",
   "execution_count": 8,
   "id": "7278747b",
   "metadata": {},
   "outputs": [
    {
     "data": {
      "text/plain": [
       "(array([2, 4, 5]),\n",
       " array([2, 3, 6]),\n",
       " array([[1, 4, 5],\n",
       "        [3, 2, 4]]),\n",
       " array([[[0.6409379 , 0.64896061, 0.24693335, 0.14852702],\n",
       "         [0.29994036, 0.14759699, 0.73597061, 0.9617051 ],\n",
       "         [0.18122573, 0.71732377, 0.05715204, 0.75239894]],\n",
       " \n",
       "        [[0.34485806, 0.61660528, 0.70560297, 0.78099139],\n",
       "         [0.32884753, 0.11851454, 0.95742867, 0.8386706 ],\n",
       "         [0.07267655, 0.43609267, 0.50085152, 0.21943497]]]))"
      ]
     },
     "execution_count": 8,
     "metadata": {},
     "output_type": "execute_result"
    }
   ],
   "source": [
    "a0,a1,a2,a3\n"
   ]
  },
  {
   "cell_type": "code",
   "execution_count": 10,
   "id": "00430b91",
   "metadata": {},
   "outputs": [
    {
     "data": {
      "text/plain": [
       "(3, 3, 6, 24)"
      ]
     },
     "execution_count": 10,
     "metadata": {},
     "output_type": "execute_result"
    }
   ],
   "source": [
    "a0.size,a1.size,a2.size,a3.size"
   ]
  },
  {
   "cell_type": "code",
   "execution_count": 44,
   "id": "8845f1ef",
   "metadata": {},
   "outputs": [
    {
     "data": {
      "text/plain": [
       "((3,), (3,), (2, 3), (2, 3, 4))"
      ]
     },
     "execution_count": 44,
     "metadata": {},
     "output_type": "execute_result"
    }
   ],
   "source": [
    "a0.shape,a1.shape,a2.shape,a3.shape"
   ]
  },
  {
   "cell_type": "code",
   "execution_count": 78,
   "id": "93e33bc3",
   "metadata": {},
   "outputs": [
    {
     "data": {
      "text/plain": [
       "19"
      ]
     },
     "execution_count": 78,
     "metadata": {},
     "output_type": "execute_result"
    }
   ],
   "source": [
    "#same of all array elemnts\n",
    "np.sum(a2)"
   ]
  },
  {
   "cell_type": "code",
   "execution_count": 90,
   "id": "82b3c9ae",
   "metadata": {},
   "outputs": [],
   "source": [
    "#creating array of strings"
   ]
  },
  {
   "cell_type": "code",
   "execution_count": 39,
   "id": "2dd3da26",
   "metadata": {},
   "outputs": [
    {
     "data": {
      "text/plain": [
       "2.8888888888888893"
      ]
     },
     "execution_count": 39,
     "metadata": {},
     "output_type": "execute_result"
    }
   ],
   "source": [
    "#variance\n",
    "np.var(a2[0])"
   ]
  },
  {
   "cell_type": "code",
   "execution_count": 40,
   "id": "f210dc5c",
   "metadata": {},
   "outputs": [
    {
     "data": {
      "text/plain": [
       "1.3437096247164249"
      ]
     },
     "execution_count": 40,
     "metadata": {},
     "output_type": "execute_result"
    }
   ],
   "source": [
    "#standard deviation\n",
    "np.std(a2)"
   ]
  },
  {
   "cell_type": "code",
   "execution_count": 103,
   "id": "6950fd67",
   "metadata": {},
   "outputs": [
    {
     "data": {
      "text/plain": [
       "3.75"
      ]
     },
     "execution_count": 103,
     "metadata": {},
     "output_type": "execute_result"
    }
   ],
   "source": [
    "np.mean(a1)"
   ]
  },
  {
   "cell_type": "code",
   "execution_count": 104,
   "id": "4d514347",
   "metadata": {},
   "outputs": [
    {
     "data": {
      "text/plain": [
       "3.1666666666666665"
      ]
     },
     "execution_count": 104,
     "metadata": {},
     "output_type": "execute_result"
    }
   ],
   "source": [
    "np.mean(a2)"
   ]
  },
  {
   "cell_type": "code",
   "execution_count": 41,
   "id": "e9fe7010",
   "metadata": {},
   "outputs": [
    {
     "data": {
      "text/plain": [
       "array([[[1],\n",
       "        [4]],\n",
       "\n",
       "       [[5],\n",
       "        [3]],\n",
       "\n",
       "       [[2],\n",
       "        [4]]])"
      ]
     },
     "execution_count": 41,
     "metadata": {},
     "output_type": "execute_result"
    }
   ],
   "source": [
    "a2.reshape(3,2,1)"
   ]
  },
  {
   "cell_type": "code",
   "execution_count": 42,
   "id": "7e3d9137",
   "metadata": {},
   "outputs": [
    {
     "data": {
      "text/plain": [
       "array([[1, 3],\n",
       "       [4, 2],\n",
       "       [5, 4]])"
      ]
     },
     "execution_count": 42,
     "metadata": {},
     "output_type": "execute_result"
    }
   ],
   "source": [
    "a2.transpose()"
   ]
  },
  {
   "cell_type": "code",
   "execution_count": 137,
   "id": "10ef4002",
   "metadata": {},
   "outputs": [
    {
     "data": {
      "text/plain": [
       "array([[6, 3],\n",
       "       [0, 0],\n",
       "       [4, 1]])"
      ]
     },
     "execution_count": 137,
     "metadata": {},
     "output_type": "execute_result"
    }
   ],
   "source": [
    "a3.T"
   ]
  },
  {
   "cell_type": "code",
   "execution_count": 68,
   "id": "b351bdb5",
   "metadata": {},
   "outputs": [
    {
     "data": {
      "text/plain": [
       "(3, 2)"
      ]
     },
     "execution_count": 68,
     "metadata": {},
     "output_type": "execute_result"
    }
   ],
   "source": [
    "a1.shape,a2.shape\n",
    "a4=a1.reshape(1,3)\n",
    "a5=a2.T\n",
    "a5.shape"
   ]
  },
  {
   "cell_type": "code",
   "execution_count": 71,
   "id": "fa9a6efe",
   "metadata": {},
   "outputs": [
    {
     "data": {
      "text/plain": [
       "(array([[2, 3, 6]]),\n",
       " array([[1, 3],\n",
       "        [4, 2],\n",
       "        [5, 4]]))"
      ]
     },
     "execution_count": 71,
     "metadata": {},
     "output_type": "execute_result"
    }
   ],
   "source": [
    "a4,a5"
   ]
  },
  {
   "cell_type": "code",
   "execution_count": 70,
   "id": "dc5014a5",
   "metadata": {},
   "outputs": [
    {
     "name": "stdout",
     "output_type": "stream",
     "text": [
      "[[44 36]]\n"
     ]
    }
   ],
   "source": [
    "np.dot(a4,a5)"
   ]
  },
  {
   "cell_type": "markdown",
   "id": "c7ac095b",
   "metadata": {},
   "source": [
    "# nut butter practical example"
   ]
  },
  {
   "cell_type": "code",
   "execution_count": 78,
   "id": "6974596d",
   "metadata": {},
   "outputs": [
    {
     "data": {
      "text/plain": [
       "array([[10, 15,  9],\n",
       "       [ 5, 14,  3],\n",
       "       [ 1,  8,  4],\n",
       "       [ 2,  6,  2],\n",
       "       [ 4, 19,  8]])"
      ]
     },
     "execution_count": 78,
     "metadata": {},
     "output_type": "execute_result"
    }
   ],
   "source": [
    "#creating sales amount array \n",
    "salesAmount=np.random.randint(20,size=(5,3))\n",
    "salesAmount"
   ]
  },
  {
   "cell_type": "code",
   "execution_count": 79,
   "id": "5e9a2325",
   "metadata": {},
   "outputs": [
    {
     "data": {
      "text/html": [
       "<div>\n",
       "<style scoped>\n",
       "    .dataframe tbody tr th:only-of-type {\n",
       "        vertical-align: middle;\n",
       "    }\n",
       "\n",
       "    .dataframe tbody tr th {\n",
       "        vertical-align: top;\n",
       "    }\n",
       "\n",
       "    .dataframe thead th {\n",
       "        text-align: right;\n",
       "    }\n",
       "</style>\n",
       "<table border=\"1\" class=\"dataframe\">\n",
       "  <thead>\n",
       "    <tr style=\"text-align: right;\">\n",
       "      <th></th>\n",
       "      <th>almond buttter</th>\n",
       "      <th>peanut Butter</th>\n",
       "      <th>cashew Butter</th>\n",
       "    </tr>\n",
       "  </thead>\n",
       "  <tbody>\n",
       "    <tr>\n",
       "      <th>mon</th>\n",
       "      <td>10</td>\n",
       "      <td>15</td>\n",
       "      <td>9</td>\n",
       "    </tr>\n",
       "    <tr>\n",
       "      <th>tue</th>\n",
       "      <td>5</td>\n",
       "      <td>14</td>\n",
       "      <td>3</td>\n",
       "    </tr>\n",
       "    <tr>\n",
       "      <th>wed</th>\n",
       "      <td>1</td>\n",
       "      <td>8</td>\n",
       "      <td>4</td>\n",
       "    </tr>\n",
       "    <tr>\n",
       "      <th>thrsday</th>\n",
       "      <td>2</td>\n",
       "      <td>6</td>\n",
       "      <td>2</td>\n",
       "    </tr>\n",
       "    <tr>\n",
       "      <th>friday</th>\n",
       "      <td>4</td>\n",
       "      <td>19</td>\n",
       "      <td>8</td>\n",
       "    </tr>\n",
       "  </tbody>\n",
       "</table>\n",
       "</div>"
      ],
      "text/plain": [
       "         almond buttter  peanut Butter  cashew Butter\n",
       "mon                  10             15              9\n",
       "tue                   5             14              3\n",
       "wed                   1              8              4\n",
       "thrsday               2              6              2\n",
       "friday                4             19              8"
      ]
     },
     "execution_count": 79,
     "metadata": {},
     "output_type": "execute_result"
    }
   ],
   "source": [
    "#creating weekly sales dataframe\n",
    "weeklySales=pd.DataFrame(salesAmount,index=[\"mon\",\"tue\",\"wed\",\"thrsday\",\"friday\"],\n",
    "                        columns=[\"almond buttter\",\"peanut Butter\",\"cashew Butter\"])\n",
    "weeklySales"
   ]
  },
  {
   "cell_type": "code",
   "execution_count": 80,
   "id": "39d30fbe",
   "metadata": {},
   "outputs": [],
   "source": [
    "#create prices array\n",
    "prices=pd.array([10,8,6])"
   ]
  },
  {
   "cell_type": "code",
   "execution_count": 81,
   "id": "bce5d1e7",
   "metadata": {},
   "outputs": [
    {
     "data": {
      "text/plain": [
       "<IntegerArray>\n",
       "[10, 8, 6]\n",
       "Length: 3, dtype: Int64"
      ]
     },
     "execution_count": 81,
     "metadata": {},
     "output_type": "execute_result"
    }
   ],
   "source": [
    "prices"
   ]
  },
  {
   "cell_type": "code",
   "execution_count": 85,
   "id": "d7950d4f",
   "metadata": {
    "scrolled": true
   },
   "outputs": [],
   "source": [
    "#create price dataframe from prices array\n",
    "price=pd.DataFrame(prices.reshape(1,3),index=[\"prices\"],\n",
    "                   columns=[\"almond buttter\",\"peanut Butter\",\"cashew Butter\"])\n"
   ]
  },
  {
   "cell_type": "code",
   "execution_count": 86,
   "id": "5fa5bdf7",
   "metadata": {},
   "outputs": [
    {
     "data": {
      "text/plain": [
       "(1, 3)"
      ]
     },
     "execution_count": 86,
     "metadata": {},
     "output_type": "execute_result"
    }
   ],
   "source": [
    "price.shape"
   ]
  },
  {
   "cell_type": "code",
   "execution_count": 92,
   "id": "1dd930cd",
   "metadata": {},
   "outputs": [],
   "source": [
    "\n",
    "# salesAmount\n",
    "total_sales=price.dot(weeklySales.T)\n",
    "total_sales\n",
    "# prices\n",
    "weeklySales[\"total($)\"]=total_sales.T"
   ]
  },
  {
   "cell_type": "code",
   "execution_count": 93,
   "id": "b17e96df",
   "metadata": {},
   "outputs": [
    {
     "data": {
      "text/html": [
       "<div>\n",
       "<style scoped>\n",
       "    .dataframe tbody tr th:only-of-type {\n",
       "        vertical-align: middle;\n",
       "    }\n",
       "\n",
       "    .dataframe tbody tr th {\n",
       "        vertical-align: top;\n",
       "    }\n",
       "\n",
       "    .dataframe thead th {\n",
       "        text-align: right;\n",
       "    }\n",
       "</style>\n",
       "<table border=\"1\" class=\"dataframe\">\n",
       "  <thead>\n",
       "    <tr style=\"text-align: right;\">\n",
       "      <th></th>\n",
       "      <th>almond buttter</th>\n",
       "      <th>peanut Butter</th>\n",
       "      <th>cashew Butter</th>\n",
       "      <th>total($)</th>\n",
       "    </tr>\n",
       "  </thead>\n",
       "  <tbody>\n",
       "    <tr>\n",
       "      <th>mon</th>\n",
       "      <td>10</td>\n",
       "      <td>15</td>\n",
       "      <td>9</td>\n",
       "      <td>274</td>\n",
       "    </tr>\n",
       "    <tr>\n",
       "      <th>tue</th>\n",
       "      <td>5</td>\n",
       "      <td>14</td>\n",
       "      <td>3</td>\n",
       "      <td>180</td>\n",
       "    </tr>\n",
       "    <tr>\n",
       "      <th>wed</th>\n",
       "      <td>1</td>\n",
       "      <td>8</td>\n",
       "      <td>4</td>\n",
       "      <td>98</td>\n",
       "    </tr>\n",
       "    <tr>\n",
       "      <th>thrsday</th>\n",
       "      <td>2</td>\n",
       "      <td>6</td>\n",
       "      <td>2</td>\n",
       "      <td>80</td>\n",
       "    </tr>\n",
       "    <tr>\n",
       "      <th>friday</th>\n",
       "      <td>4</td>\n",
       "      <td>19</td>\n",
       "      <td>8</td>\n",
       "      <td>240</td>\n",
       "    </tr>\n",
       "  </tbody>\n",
       "</table>\n",
       "</div>"
      ],
      "text/plain": [
       "         almond buttter  peanut Butter  cashew Butter total($)\n",
       "mon                  10             15              9      274\n",
       "tue                   5             14              3      180\n",
       "wed                   1              8              4       98\n",
       "thrsday               2              6              2       80\n",
       "friday                4             19              8      240"
      ]
     },
     "execution_count": 93,
     "metadata": {},
     "output_type": "execute_result"
    }
   ],
   "source": [
    "# prices=prices.reshape(3,1)\n",
    "weeklySales"
   ]
  },
  {
   "cell_type": "markdown",
   "id": "d15fe0a4",
   "metadata": {},
   "source": [
    "# sorting arrays"
   ]
  },
  {
   "cell_type": "code",
   "execution_count": 72,
   "id": "8aa1a874",
   "metadata": {},
   "outputs": [
    {
     "data": {
      "text/plain": [
       "array([[8, 2, 0, 6],\n",
       "       [2, 8, 1, 4],\n",
       "       [2, 5, 7, 6]])"
      ]
     },
     "execution_count": 72,
     "metadata": {},
     "output_type": "execute_result"
    }
   ],
   "source": [
    "to_sort=np.random.randint(10,size=(3,4))\n",
    "to_sort\n"
   ]
  },
  {
   "cell_type": "code",
   "execution_count": 73,
   "id": "bb1d407c",
   "metadata": {},
   "outputs": [
    {
     "data": {
      "text/plain": [
       "array([[0, 2, 6, 8],\n",
       "       [1, 2, 4, 8],\n",
       "       [2, 5, 6, 7]])"
      ]
     },
     "execution_count": 73,
     "metadata": {},
     "output_type": "execute_result"
    }
   ],
   "source": [
    "np.sort(to_sort)#arg sort returns index"
   ]
  },
  {
   "cell_type": "code",
   "execution_count": 76,
   "id": "a2675e09",
   "metadata": {},
   "outputs": [
    {
     "data": {
      "text/plain": [
       "0"
      ]
     },
     "execution_count": 76,
     "metadata": {},
     "output_type": "execute_result"
    }
   ],
   "source": [
    "np.min(to_sort)"
   ]
  },
  {
   "cell_type": "code",
   "execution_count": 77,
   "id": "0099294d",
   "metadata": {},
   "outputs": [
    {
     "data": {
      "text/plain": [
       "8"
      ]
     },
     "execution_count": 77,
     "metadata": {},
     "output_type": "execute_result"
    }
   ],
   "source": [
    "np.max(to_sort)"
   ]
  },
  {
   "cell_type": "code",
   "execution_count": 59,
   "id": "489fd91f",
   "metadata": {},
   "outputs": [
    {
     "data": {
      "text/plain": [
       "0"
      ]
     },
     "execution_count": 59,
     "metadata": {},
     "output_type": "execute_result"
    }
   ],
   "source": [
    "np.argmin(to_sort)"
   ]
  },
  {
   "cell_type": "code",
   "execution_count": 74,
   "id": "cef1c32b",
   "metadata": {},
   "outputs": [
    {
     "data": {
      "text/plain": [
       "0"
      ]
     },
     "execution_count": 74,
     "metadata": {},
     "output_type": "execute_result"
    }
   ],
   "source": [
    "np.argmax(to_sort)"
   ]
  },
  {
   "cell_type": "markdown",
   "id": "f20877a3",
   "metadata": {},
   "source": [
    "# turn  images into numpy arrays"
   ]
  },
  {
   "cell_type": "code",
   "execution_count": 78,
   "id": "13c5d693",
   "metadata": {},
   "outputs": [],
   "source": [
    "from  matplotlib.image import imread\n",
    "#<img src='artifitial.jpg' />"
   ]
  },
  {
   "cell_type": "markdown",
   "id": "5a5050b6",
   "metadata": {},
   "source": [
    "<img src='artifitial.jpg' />"
   ]
  },
  {
   "cell_type": "markdown",
   "id": "521d313a",
   "metadata": {},
   "source": [
    "<img src=\"\"/>"
   ]
  },
  {
   "cell_type": "code",
   "execution_count": 81,
   "id": "a55e05ee",
   "metadata": {},
   "outputs": [
    {
     "data": {
      "text/plain": [
       "array([[[ 0,  0,  5],\n",
       "        [ 0,  2,  9],\n",
       "        [ 0,  1,  8],\n",
       "        ...,\n",
       "        [ 0,  0, 11],\n",
       "        [ 1,  1, 13],\n",
       "        [ 1,  1, 13]],\n",
       "\n",
       "       [[ 0,  1,  6],\n",
       "        [ 0,  2,  9],\n",
       "        [ 0,  0,  7],\n",
       "        ...,\n",
       "        [ 2,  2, 14],\n",
       "        [ 0,  0, 11],\n",
       "        [ 0,  0, 11]],\n",
       "\n",
       "       [[ 0,  3,  8],\n",
       "        [ 0,  2,  9],\n",
       "        [ 0,  0,  7],\n",
       "        ...,\n",
       "        [ 3,  5, 18],\n",
       "        [ 0,  0, 13],\n",
       "        [ 0,  0, 13]],\n",
       "\n",
       "       ...,\n",
       "\n",
       "       [[ 0,  0, 12],\n",
       "        [ 0,  6, 19],\n",
       "        [ 0,  8, 23],\n",
       "        ...,\n",
       "        [ 4, 20, 54],\n",
       "        [ 0, 14, 47],\n",
       "        [ 6, 21, 52]],\n",
       "\n",
       "       [[ 0,  3, 15],\n",
       "        [ 3, 11, 24],\n",
       "        [ 3, 12, 27],\n",
       "        ...,\n",
       "        [11, 27, 61],\n",
       "        [ 1, 16, 49],\n",
       "        [10, 25, 56]],\n",
       "\n",
       "       [[ 6, 12, 24],\n",
       "        [ 5, 13, 26],\n",
       "        [ 1, 10, 25],\n",
       "        ...,\n",
       "        [18, 34, 68],\n",
       "        [18, 33, 66],\n",
       "        [29, 44, 75]]], dtype=uint8)"
      ]
     },
     "execution_count": 81,
     "metadata": {},
     "output_type": "execute_result"
    }
   ],
   "source": [
    "array=imread('artifitial.jpg')\n",
    "array"
   ]
  },
  {
   "cell_type": "code",
   "execution_count": null,
   "id": "a0b10b9e",
   "metadata": {},
   "outputs": [],
   "source": []
  }
 ],
 "metadata": {
  "kernelspec": {
   "display_name": "Python 3 (ipykernel)",
   "language": "python",
   "name": "python3"
  },
  "language_info": {
   "codemirror_mode": {
    "name": "ipython",
    "version": 3
   },
   "file_extension": ".py",
   "mimetype": "text/x-python",
   "name": "python",
   "nbconvert_exporter": "python",
   "pygments_lexer": "ipython3",
   "version": "3.9.12"
  }
 },
 "nbformat": 4,
 "nbformat_minor": 5
}
